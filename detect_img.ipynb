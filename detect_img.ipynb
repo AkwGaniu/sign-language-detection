{
 "cells": [
  {
   "cell_type": "markdown",
   "id": "6fc64664",
   "metadata": {},
   "source": [
    "## Sign Language Detection"
   ]
  },
  {
   "cell_type": "code",
   "execution_count": 3,
   "id": "3ab637d9",
   "metadata": {},
   "outputs": [],
   "source": [
    "# Importing packages to be used\n",
    "import cv2\n",
    "import os\n",
    "import time\n",
    "import uuid"
   ]
  },
  {
   "cell_type": "code",
   "execution_count": 4,
   "id": "c24271ec",
   "metadata": {},
   "outputs": [],
   "source": [
    "# Set path for images to be collected\n",
    "IMAGE_PATH = \"Tensorflow/workspace/images/collectedImages\""
   ]
  },
  {
   "cell_type": "code",
   "execution_count": 7,
   "id": "160ea6ca",
   "metadata": {},
   "outputs": [],
   "source": [
    "# Define the labels for each sign language\n",
    "labels = [\"hello\", \"yes\", \"no\", \"iloveyou\", \"thanks\"]\n",
    "img_number = 17"
   ]
  },
  {
   "cell_type": "code",
   "execution_count": 6,
   "id": "f7b754cf",
   "metadata": {},
   "outputs": [
    {
     "name": "stdout",
     "output_type": "stream",
     "text": [
      "Collecting images for hello\n",
      "Collecting images for yes\n",
      "Collecting images for no\n",
      "Collecting images for iloveyou\n",
      "Collecting images for thanks\n"
     ]
    }
   ],
   "source": [
    "# Code for collecting images dataset\n",
    "for label in labels:\n",
    "    !mkdir {'-p '+IMAGE_PATH+'/'+label}\n",
    "    capture = cv2.VideoCapture(0)\n",
    "    print('Collecting images for {}'.format(label))\n",
    "    for img_num in range(img_number):\n",
    "        ret, frame = capture.read()\n",
    "        image_name = os.path.join(IMAGE_PATH, label, label+'.'+'{}.jpg'.format(str(uuid.uuid1())))\n",
    "        cv2.imwrite(image_name, frame)\n",
    "        cv2.imshow('frame', frame)\n",
    "        time.sleep(2)\n",
    "        \n",
    "        if cv2.waitKey(1) & 0xFF == ord('q'):\n",
    "            break\n",
    "    capture.release()"
   ]
  },
  {
   "cell_type": "markdown",
   "id": "f6f776eb",
   "metadata": {},
   "source": [
    "## Try to label images automatically\n"
   ]
  },
  {
   "cell_type": "code",
   "execution_count": null,
   "id": "5e931e7a",
   "metadata": {},
   "outputs": [],
   "source": []
  },
  {
   "cell_type": "code",
   "execution_count": null,
   "id": "c2fa993b",
   "metadata": {},
   "outputs": [],
   "source": []
  },
  {
   "cell_type": "code",
   "execution_count": null,
   "id": "6157d16a",
   "metadata": {},
   "outputs": [],
   "source": []
  },
  {
   "cell_type": "code",
   "execution_count": null,
   "id": "a667afc9",
   "metadata": {},
   "outputs": [],
   "source": []
  },
  {
   "cell_type": "code",
   "execution_count": null,
   "id": "d9854fb7",
   "metadata": {},
   "outputs": [],
   "source": []
  },
  {
   "cell_type": "code",
   "execution_count": null,
   "id": "8773746b",
   "metadata": {},
   "outputs": [],
   "source": []
  },
  {
   "cell_type": "code",
   "execution_count": null,
   "id": "446c3eed",
   "metadata": {},
   "outputs": [],
   "source": []
  },
  {
   "cell_type": "code",
   "execution_count": null,
   "id": "04e77419",
   "metadata": {},
   "outputs": [],
   "source": []
  },
  {
   "cell_type": "markdown",
   "id": "392c1a13",
   "metadata": {},
   "source": [
    "## Split dataset into testing and training partition\n"
   ]
  },
  {
   "cell_type": "code",
   "execution_count": null,
   "id": "a539c3c5",
   "metadata": {},
   "outputs": [],
   "source": []
  },
  {
   "cell_type": "code",
   "execution_count": null,
   "id": "f5e66bd0",
   "metadata": {},
   "outputs": [],
   "source": []
  },
  {
   "cell_type": "code",
   "execution_count": null,
   "id": "0010b6d3",
   "metadata": {},
   "outputs": [],
   "source": []
  },
  {
   "cell_type": "code",
   "execution_count": null,
   "id": "52ed7ddb",
   "metadata": {},
   "outputs": [],
   "source": []
  },
  {
   "cell_type": "code",
   "execution_count": null,
   "id": "f7e14100",
   "metadata": {},
   "outputs": [],
   "source": []
  },
  {
   "cell_type": "code",
   "execution_count": null,
   "id": "3a0b8d55",
   "metadata": {},
   "outputs": [],
   "source": []
  }
 ],
 "metadata": {
  "kernelspec": {
   "display_name": "Python 3 (ipykernel)",
   "language": "python",
   "name": "python3"
  },
  "language_info": {
   "codemirror_mode": {
    "name": "ipython",
    "version": 3
   },
   "file_extension": ".py",
   "mimetype": "text/x-python",
   "name": "python",
   "nbconvert_exporter": "python",
   "pygments_lexer": "ipython3",
   "version": "3.10.9"
  }
 },
 "nbformat": 4,
 "nbformat_minor": 5
}
